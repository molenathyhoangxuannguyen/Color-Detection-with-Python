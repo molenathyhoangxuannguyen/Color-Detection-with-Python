{
 "cells": [
  {
   "cell_type": "code",
   "execution_count": 2,
   "metadata": {
    "scrolled": true
   },
   "outputs": [],
   "source": [
    "# importing cv2 \n",
    "\n",
    "import cv2\n",
    "import numpy as np\n",
    "import pandas as pd\n",
    "import argparse\n",
    "\n",
    "\n",
    "# Using cv2.imread() method \n",
    "    \n",
    "# path \n",
    "img_path = r'C:\\Users\\nguyent2\\Desktop\\Color-Detection-with-Python\\python-project-color-detection\\colorpic.jpg'\n",
    "\n",
    "#Reading image with opencv\n",
    "img = cv2.imread(img_path)\n",
    "\n",
    "\n",
    "# Displaying the image \n",
    "# cv2.imshow('image', img) \n"
   ]
  },
  {
   "cell_type": "code",
   "execution_count": 3,
   "metadata": {},
   "outputs": [],
   "source": [
    "# Reading the .csv file with pandas and giving names to each column\n",
    "index=[\"color\",\"color_name\",\"hex\",\"R\",\"G\",\"B\"]\n",
    "csv = pd.read_csv(r'C:\\Users\\nguyent2\\Desktop\\Color-Detection-with-Python\\python-project-color-detection\\colors.csv', names=index, header=None)"
   ]
  },
  {
   "cell_type": "code",
   "execution_count": 4,
   "metadata": {},
   "outputs": [],
   "source": [
    "# Create the draw_function()\n",
    "\n",
    "\"\"\"\n",
    "It will calculate the rgb values of the pixel which we double click. \n",
    "The function parameters have the event name, (x,y) coordinates of the mouse position, etc. \n",
    "In the function, we check if the event is double-clicked \n",
    "then we calculate and set the r,g,b values along with x,y positions of the mouse.\n",
    "\"\"\"\n",
    "\n",
    "def draw_function(event, x,y,flags,param):\n",
    "    if event == cv2.EVENT_LBUTTONDBLCLK:\n",
    "        global b,g,r,xpos,ypos, clicked\n",
    "        clicked = True\n",
    "        xpos = x\n",
    "        ypos = y\n",
    "        b,g,r = img[y,x]\n",
    "        b = int(b)\n",
    "        g = int(g)\n",
    "        r = int(r)\n",
    "\n",
    "# Set a mouse callback event on a window\n",
    "\n",
    "# First, we created a window in which the input image will display. \n",
    "# Then, we set a callback function which will be called when a mouse event happens.\n",
    "\n",
    "cv2.namedWindow('image')\n",
    "cv2.setMouseCallback('image',draw_function)"
   ]
  },
  {
   "cell_type": "code",
   "execution_count": null,
   "metadata": {},
   "outputs": [],
   "source": [
    "#  Calculate distance to get color name\n",
    "\"\"\"\n",
    "We have the r,g and b values. Now, we need another function which will return us the color name from RGB values. \n",
    "To get the color name, we calculate a distance(d) which tells us how close we are to color \n",
    "and choose the one having minimum distance.\n",
    "\n",
    "Our distance is calculated by this formula:\n",
    "\n",
    "d = abs(Red – ithRedColor) + (Green – ithGreenColor) + (Blue – ithBlueColor)\n",
    "\"\"\"\n",
    "\n",
    "def getColorName(R,G,B):\n",
    "    minimum = 10000\n",
    "    for i in range(len(csv)):\n",
    "        d = abs(R- int(csv.loc[i,\"R\"])) + abs(G- int(csv.loc[i,\"G\"]))+ abs(B- int(csv.loc[i,\"B\"]))\n",
    "        if(d<=minimum):\n",
    "            minimum = d\n",
    "            cname = csv.loc[i,\"color_name\"]\n",
    "    return cname"
   ]
  },
  {
   "cell_type": "code",
   "execution_count": null,
   "metadata": {},
   "outputs": [],
   "source": [
    "# Display image on the window\n",
    "\n",
    "\"\"\"\n",
    "Whenever a double click event occurs, it will update the color name and RGB values on the window.\n",
    "\n",
    "Using the cv2.imshow() function, we draw the image on the window. When the user double clicks the window, \n",
    "we draw a rectangle and get the color name to draw text on the window using cv2.rectangle and cv2.putText() functions.\n",
    "\n",
    "\"\"\"\n",
    "while(1):\n",
    "    cv2.imshow(\"image\",img)\n",
    "    if (clicked):\n",
    "        #cv2.rectangle(image, startpoint, endpoint, color, thickness) -1 thickness fills rectangle entirely\n",
    "        cv2.rectangle(img,(20,20), (750,60), (b,g,r), -1)\n",
    "\n",
    "        #Creating text string to display ( Color name and RGB values )\n",
    "        text = getColorName(r,g,b) + ' R='+ str(r) + ' G='+ str(g) + ' B='+ str(b)\n",
    "\n",
    "        #cv2.putText(img,text,start,font(0-7), fontScale, color, thickness, lineType, (optional bottomLeft bool) )\n",
    "        cv2.putText(img, text,(50,50),2,0.8,(255,255,255),2,cv2.LINE_AA)\n",
    "  #For very light colours we will display text in black colour\n",
    "        if(r+g+b>=600):\n",
    "            cv2.putText(img, text,(50,50),2,0.8,(0,0,0),2,cv2.LINE_AA)\n",
    "\n",
    "        clicked=False\n",
    "\n",
    "    #Break the loop when user hits 'esc' key \n",
    "    if cv2.waitKey(20) & 0xFF ==27:\n",
    "        break\n",
    "\n",
    "cv2.destroyAllWindows()"
   ]
  },
  {
   "cell_type": "code",
   "execution_count": null,
   "metadata": {},
   "outputs": [],
   "source": [
    "\"\"\"\n",
    "In this Python extend with source code, we learned almost colors and \n",
    "how able to extricate color RGB values and the color title of a pixel.\n",
    "We learned how to handle occasions like double-clicking on the window \n",
    "and saw how to studied CSV files with pandas and perform operations on information. \n",
    "Typically utilized in various picture altering and drawing apps.\n",
    "\"\"\""
   ]
  }
 ],
 "metadata": {
  "kernelspec": {
   "display_name": "Python 3",
   "language": "python",
   "name": "python3"
  },
  "language_info": {
   "codemirror_mode": {
    "name": "ipython",
    "version": 3
   },
   "file_extension": ".py",
   "mimetype": "text/x-python",
   "name": "python",
   "nbconvert_exporter": "python",
   "pygments_lexer": "ipython3",
   "version": "3.8.5"
  }
 },
 "nbformat": 4,
 "nbformat_minor": 4
}
