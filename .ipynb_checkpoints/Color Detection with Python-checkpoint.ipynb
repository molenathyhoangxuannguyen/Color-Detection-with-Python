      "usage: ipykernel_launcher.py [-h] -i IMAGE\n",
